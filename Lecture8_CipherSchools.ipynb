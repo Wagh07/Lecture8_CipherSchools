{
  "nbformat": 4,
  "nbformat_minor": 0,
  "metadata": {
    "colab": {
      "provenance": []
    },
    "kernelspec": {
      "name": "python3",
      "display_name": "Python 3"
    },
    "language_info": {
      "name": "python"
    }
  },
  "cells": [
    {
      "cell_type": "code",
      "source": [
        "# Strings and its functions\n",
        "\n",
        "s='We are here'\n",
        "\n",
        "print(type(s))\n",
        "\n",
        "print(len(s))\n",
        "\n",
        "print(s[2])\n",
        "\n",
        "print(s[7])\n",
        "\n",
        "print(s[-1])\n",
        "\n",
        "print(s+'guys')\n",
        "\n",
        "print(s,2)\n",
        "\n",
        "print(s.upper())\n",
        "\n",
        "print(s.lower())\n",
        "\n",
        "print(s.strip())\n",
        "\n",
        "print(s.replace('We','You'))\n",
        "\n",
        "print(s.split(' '))\n",
        "\n",
        "\n"
      ],
      "metadata": {
        "colab": {
          "base_uri": "https://localhost:8080/"
        },
        "id": "v7l_v6gtJSFY",
        "outputId": "28f37645-d01a-439d-abb9-445cf261d4d5"
      },
      "execution_count": 1,
      "outputs": [
        {
          "output_type": "stream",
          "name": "stdout",
          "text": [
            "<class 'str'>\n",
            "11\n",
            " \n",
            "h\n",
            "e\n",
            "We are hereguys\n",
            "We are here 2\n",
            "WE ARE HERE\n",
            "we are here\n",
            "We are here\n",
            "You are here\n",
            "['We', 'are', 'here']\n"
          ]
        }
      ]
    },
    {
      "cell_type": "code",
      "source": [
        "# Slicing operation in String.\n",
        "\n",
        "s = 'CipherSchools'\n",
        "\n",
        "print(s[0:4:1])\n",
        "\n",
        "'\\n'\n",
        "\n",
        "print(s[::2])\n",
        "\n",
        "print(s[:5])\n",
        "\n",
        "print(s[5])\n",
        "\n",
        "\n",
        "print(s[-11:-5:])"
      ],
      "metadata": {
        "colab": {
          "base_uri": "https://localhost:8080/"
        },
        "id": "uCOwWmv_u114",
        "outputId": "4e20fe96-aba3-4bc3-f59f-791eb21ea0ee"
      },
      "execution_count": 5,
      "outputs": [
        {
          "output_type": "stream",
          "name": "stdout",
          "text": [
            "Ciph\n",
            "CpeShos\n",
            "Ciphe\n",
            "r\n",
            "pherSc\n"
          ]
        }
      ]
    },
    {
      "cell_type": "code",
      "source": [
        "# Strings are immutable\n",
        "\n",
        "s='hi'\n",
        "\n",
        "print(s)\n",
        "\n",
        "print(s[0])\n",
        "\n"
      ],
      "metadata": {
        "colab": {
          "base_uri": "https://localhost:8080/"
        },
        "id": "SC7cu9M7xCL6",
        "outputId": "8b730961-b196-46a0-fdbd-02015433aea8"
      },
      "execution_count": 6,
      "outputs": [
        {
          "output_type": "stream",
          "name": "stdout",
          "text": [
            "hi\n",
            "h\n"
          ]
        }
      ]
    },
    {
      "cell_type": "code",
      "source": [
        "s[0]='H'\n",
        "\n",
        "print(s)"
      ],
      "metadata": {
        "colab": {
          "base_uri": "https://localhost:8080/",
          "height": 200
        },
        "id": "Pziih7o5xWN6",
        "outputId": "37665d49-3da2-4c77-f33b-c95ff8ac5b3d"
      },
      "execution_count": 7,
      "outputs": [
        {
          "output_type": "error",
          "ename": "TypeError",
          "evalue": "ignored",
          "traceback": [
            "\u001b[0;31m---------------------------------------------------------------------------\u001b[0m",
            "\u001b[0;31mTypeError\u001b[0m                                 Traceback (most recent call last)",
            "\u001b[0;32m<ipython-input-7-2caffe0941a8>\u001b[0m in \u001b[0;36m<cell line: 1>\u001b[0;34m()\u001b[0m\n\u001b[0;32m----> 1\u001b[0;31m \u001b[0ms\u001b[0m\u001b[0;34m[\u001b[0m\u001b[0;36m0\u001b[0m\u001b[0;34m]\u001b[0m\u001b[0;34m=\u001b[0m\u001b[0;34m'H'\u001b[0m\u001b[0;34m\u001b[0m\u001b[0;34m\u001b[0m\u001b[0m\n\u001b[0m\u001b[1;32m      2\u001b[0m \u001b[0;34m\u001b[0m\u001b[0m\n\u001b[1;32m      3\u001b[0m \u001b[0mprint\u001b[0m\u001b[0;34m(\u001b[0m\u001b[0ms\u001b[0m\u001b[0;34m)\u001b[0m\u001b[0;34m\u001b[0m\u001b[0;34m\u001b[0m\u001b[0m\n",
            "\u001b[0;31mTypeError\u001b[0m: 'str' object does not support item assignment"
          ]
        }
      ]
    }
  ]
}